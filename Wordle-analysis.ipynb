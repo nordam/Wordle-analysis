{
 "cells": [
  {
   "cell_type": "code",
   "execution_count": 1,
   "metadata": {},
   "outputs": [],
   "source": [
    "%matplotlib inline\n",
    "import numpy as np\n",
    "import matplotlib.pyplot as plt"
   ]
  },
  {
   "cell_type": "code",
   "execution_count": 2,
   "metadata": {},
   "outputs": [],
   "source": [
    "# Global variable with list of all the letters\n",
    "LETTERS = 'ABCDEFGHIJKLMNOPQRSTUVWXYZ'"
   ]
  },
  {
   "cell_type": "code",
   "execution_count": 3,
   "metadata": {},
   "outputs": [],
   "source": [
    "def get_counts(word):\n",
    "    # This function counts how many times\n",
    "    # each of the 26 letters occur in the input word\n",
    "    counts = [word.count(l) for l in LETTERS]\n",
    "    return counts"
   ]
  },
  {
   "cell_type": "code",
   "execution_count": 4,
   "metadata": {},
   "outputs": [],
   "source": [
    "# Create an array to hold the count of each letter\n",
    "counts = np.zeros(len(LETTERS))\n",
    "\n",
    "# Read words from a Scrabble word list, downloaded from here:\n",
    "# https://boardgames.stackexchange.com/questions/38366/latest-collins-scrabble-words-list-in-text-file\n",
    "with open('scrabble.txt') as f:\n",
    "    for word in [line.strip() for line in f]:\n",
    "        # Only consider 5-letter words\n",
    "        if len(word) == 5:\n",
    "            counts += get_counts(word)"
   ]
  },
  {
   "cell_type": "code",
   "execution_count": 5,
   "metadata": {},
   "outputs": [
    {
     "data": {
      "image/png": "[encoded data removed]",
      "text/plain": [
       "<Figure size 864x432 with 1 Axes>"
      ]
     },
     "metadata": {
      "needs_background": "light"
     },
     "output_type": "display_data"
    }
   ],
   "source": [
    "# Plot the results as a histogram\n",
    "fig = plt.figure(figsize=(12, 6))\n",
    "plt.bar(range(len(LETTERS)), counts)\n",
    "plt.xticks(range(len(LETTERS)), LETTERS)\n",
    "plt.ylabel('Counts among 5-letter words')\n",
    "plt.tight_layout()\n",
    "plt.savefig('letter_counts.png')"
   ]
  },
  {
   "cell_type": "code",
   "execution_count": 6,
   "metadata": {},
   "outputs": [],
   "source": [
    "fiveletter_words = []\n",
    "\n",
    "# Read words from a Scrabble word list, downloaded from here:\n",
    "# https://boardgames.stackexchange.com/questions/38366/latest-collins-scrabble-words-list-in-text-file\n",
    "with open('scrabble.txt') as f:\n",
    "    for word in [line.strip() for line in f]:\n",
    "        # Only consider 5-letter words\n",
    "        if len(word) == 5:\n",
    "            fiveletter_words.append(word)"
   ]
  },
  {
   "cell_type": "code",
   "execution_count": 7,
   "metadata": {},
   "outputs": [
    {
     "name": "stdout",
     "output_type": "stream",
     "text": [
      "Considered 353 options for first guess\n"
     ]
    }
   ],
   "source": [
    "correct_counts = {}\n",
    "for guess in fiveletter_words:\n",
    "    # Only consider guesses that contain 5 of the 9 most common letters\n",
    "    if sum([l in guess for l in 'AEILNORST']) == 5:\n",
    "        # Add the guess to a dictionary\n",
    "        correct_counts[guess] = [0,0]\n",
    "        for word in fiveletter_words:\n",
    "            # Count letters in the correct position\n",
    "            correct_counts[guess][0] += sum([a == b for a, b in zip(guess, word)]) / len(fiveletter_words)\n",
    "            # Count letters that are in the word, but not neccessarily in the right position\n",
    "            correct_counts[guess][1] += sum(word.count(l) for l in guess) / len(fiveletter_words)\n",
    "            \n",
    "print(f'Considered {len(correct_counts)} options for first guess')"
   ]
  },
  {
   "cell_type": "code",
   "execution_count": 8,
   "metadata": {},
   "outputs": [
    {
     "name": "stdout",
     "output_type": "stream",
     "text": [
      "AEROS: In correct place 0.63360, not neccessarily in correct place 2.15179\n",
      "AESIR: In correct place 0.34312, not neccessarily in correct place 2.09944\n",
      "ARISE: In correct place 0.36741, not neccessarily in correct place 2.09944\n",
      "AROSE: In correct place 0.36294, not neccessarily in correct place 2.15179\n",
      "LARES: In correct place 0.79579, not neccessarily in correct place 2.06953\n",
      "RAISE: In correct place 0.46099, not neccessarily in correct place 2.09944\n",
      "REAIS: In correct place 0.64215, not neccessarily in correct place 2.09944\n",
      "SERAI: In correct place 0.44288, not neccessarily in correct place 2.09944\n",
      "SOARE: In correct place 0.55026, not neccessarily in correct place 2.15179\n",
      "TARES: In correct place 0.81414, not neccessarily in correct place 2.06368\n",
      "TORES: In correct place 0.80126, not neccessarily in correct place 1.94403\n"
     ]
    }
   ],
   "source": [
    "# Print only the best initial guesses\n",
    "# The threshold values 0.79 and 2.099 were just tweaked\n",
    "# to display a modest number of the best options\n",
    "for key, value in correct_counts.items():\n",
    "    if value[0] > 0.79 or value[1] > 2.099:\n",
    "        print(f'{key}: In correct place {value[0]:.5f}, not neccessarily in correct place {value[1]:.5f}')"
   ]
  }
 ],
 "metadata": {
  "kernelspec": {
   "display_name": "Python 3",
   "language": "python",
   "name": "python3"
  },
  "language_info": {
   "codemirror_mode": {
    "name": "ipython",
    "version": 3
   },
   "file_extension": ".py",
   "mimetype": "text/x-python",
   "name": "python",
   "nbconvert_exporter": "python",
   "pygments_lexer": "ipython3",
   "version": "3.8.5"
  }
 },
 "nbformat": 4,
 "nbformat_minor": 4
}
