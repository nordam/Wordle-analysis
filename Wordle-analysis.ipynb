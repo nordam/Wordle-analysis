{
 "cells": [
  {
   "cell_type": "code",
   "execution_count": 6,
   "metadata": {},
   "outputs": [],
   "source": [
    "%matplotlib inline\n",
    "import numpy as np\n",
    "import matplotlib.pyplot as plt"
   ]
  },
  {
   "cell_type": "code",
   "execution_count": 40,
   "metadata": {},
   "outputs": [],
   "source": [
    "# Global variable with list of all the letters\n",
    "LETTERS = 'ABCDEFGHIJKLMNOPQRSTUVWXYZ'"
   ]
  },
  {
   "cell_type": "code",
   "execution_count": 43,
   "metadata": {},
   "outputs": [],
   "source": [
    "def get_counts(word):\n",
    "    # This function counts how many times\n",
    "    # each of the 26 letters occur in the input word\n",
    "    counts = [word.count(l) for l in LETTERS]\n",
    "    return counts"
   ]
  },
  {
   "cell_type": "code",
   "execution_count": 44,
   "metadata": {},
   "outputs": [],
   "source": [
    "# Create an array to hold the count of each letter\n",
    "counts = np.zeros(len(LETTERS))\n",
    "\n",
    "# Read words from a Scrabble word list, downloaded from here:\n",
    "# https://boardgames.stackexchange.com/questions/38366/latest-collins-scrabble-words-list-in-text-file\n",
    "with open('scrabble.txt') as f:\n",
    "    for word in [line.strip() for line in f]:\n",
    "        # Only consider 5-letter words\n",
    "        if len(word) == 5:\n",
    "            counts += get_counts(word)"
   ]
  },
  {
   "cell_type": "code",
   "execution_count": 49,
   "metadata": {},
   "outputs": [
    {
     "data": {
      "image/png": "[encoded data removed]",
      "text/plain": [
       "<Figure size 864x432 with 1 Axes>"
      ]
     },
     "metadata": {
      "needs_background": "light"
     },
     "output_type": "display_data"
    }
   ],
   "source": [
    "# Plot the results as a histogram\n",
    "fig = plt.figure(figsize=(12, 6))\n",
    "plt.bar(range(len(LETTERS)), counts)\n",
    "_ = plt.xticks(range(len(LETTERS)), letters)"
   ]
  },
  {
   "cell_type": "code",
   "execution_count": 50,
   "metadata": {},
   "outputs": [],
   "source": [
    "fiveletter_words = []\n",
    "\n",
    "# Read words from a Scrabble word list, downloaded from here:\n",
    "# https://boardgames.stackexchange.com/questions/38366/latest-collins-scrabble-words-list-in-text-file\n",
    "with open('scrabble.txt') as f:\n",
    "    for word in [line.strip() for line in f]:\n",
    "        # Only consider 5-letter words\n",
    "        if len(word) == 5:\n",
    "            fiveletter_words.append(word)"
   ]
  },
  {
   "cell_type": "code",
   "execution_count": null,
   "metadata": {},
   "outputs": [],
   "source": [
    "counts = {}\n",
    "for guess in fiveletter_words:\n",
    "    if sum([l in guess for l in 'AEILORST']) >= 4:\n",
    "        # Add the guess to a dictionary\n",
    "        counts[guess] = [0,0]\n",
    "        for word in fiveletter_words:\n",
    "            # Count letters in the correct position\n",
    "            count1 = sum([a == b for a, b in zip(guess, word)])\n",
    "            # Count letters that are in the word, but not neccessarily in the right position\n",
    "            count2 = sum(word.count(l) for l in guess)\n",
    "            counts[guess][0] += count1\n",
    "            counts[guess][1] += count2"
   ]
  },
  {
   "cell_type": "code",
   "execution_count": 52,
   "metadata": {},
   "outputs": [
    {
     "data": {
      "text/plain": [
       "[True, False, True, True, True]"
      ]
     },
     "execution_count": 52,
     "metadata": {},
     "output_type": "execute_result"
    }
   ],
   "source": [
    "[a == b for a, b in zip('hello', 'hallo')]"
   ]
  },
  {
   "cell_type": "code",
   "execution_count": 38,
   "metadata": {},
   "outputs": [
    {
     "name": "stdout",
     "output_type": "stream",
     "text": [
      "AEROS\n",
      "AESIR\n",
      "AISLE\n",
      "ALOES\n",
      "ARIEL\n",
      "ARILS\n",
      "ARISE\n",
      "ARLES\n",
      "AROSE\n",
      "EARLS\n",
      "EORLS\n",
      "LAERS\n",
      "LAIRS\n",
      "LARES\n",
      "LARIS\n",
      "LASER\n",
      "LEARS\n",
      "LEIRS\n",
      "LIARS\n",
      "LIERS\n",
      "LIRAS\n",
      "LOIRS\n",
      "LORES\n",
      "LORIS\n",
      "LOSER\n",
      "OILER\n",
      "ORALS\n",
      "ORIEL\n",
      "ORLES\n",
      "OSIER\n",
      "RAILE\n",
      "RAILS\n",
      "RAISE\n",
      "RALES\n",
      "REAIS\n",
      "REALO\n",
      "REALS\n",
      "REOIL\n",
      "RIALS\n",
      "RIELS\n",
      "RILES\n",
      "ROILS\n",
      "ROLES\n",
      "SERAI\n",
      "SERAL\n",
      "SILER\n",
      "SLIER\n",
      "SOARE\n",
      "SOLAR\n",
      "SOLEI\n",
      "SOLER\n",
      "SORAL\n",
      "SOREL\n"
     ]
    }
   ],
   "source": [
    "with open('scrabble.txt') as f:\n",
    "    for line in f.readlines():\n",
    "        word = line.strip()\n",
    "        if len(word) == 5:\n",
    "            if sum([l in word for l in 'AEILORS']) > 4:\n",
    "                print(word)"
   ]
  },
  {
   "cell_type": "code",
   "execution_count": 21,
   "metadata": {},
   "outputs": [],
   "source": [
    "letters = 'ABCDEFGHIJKLMNOPQRSTUVWXYZ'\n",
    "counts = np.zeros(len(letters))\n",
    "with open('scrabble.txt') as f:\n",
    "    for line in f.readlines():\n",
    "        word = line.strip()\n",
    "        if len(word) == 5:\n",
    "            counts += get_counts(word)"
   ]
  },
  {
   "cell_type": "code",
   "execution_count": 22,
   "metadata": {},
   "outputs": [
    {
     "name": "stdout",
     "output_type": "stream",
     "text": [
      "[5990. 1627. 2028. 2453. 6662. 1115. 1644. 1760. 3759.  291. 1505. 3371.\n",
      " 1976. 2952. 4438. 2019.  112. 4158. 6665. 3295. 2511.  694. 1039.  288.\n",
      " 2074.  434.]\n"
     ]
    },
    {
     "data": {
      "image/png": "[encoded data removed]",
      "text/plain": [
       "<Figure size 432x288 with 1 Axes>"
      ]
     },
     "metadata": {
      "needs_background": "light"
     },
     "output_type": "display_data"
    }
   ],
   "source": [
    "plt.bar(np.arange(len(counts)), counts)\n",
    "plt.xticks(np.arange(len(counts)), letters)\n",
    "plt.tight_layout()\n",
    "plt.savefig('letters.png')\n",
    "print(counts)"
   ]
  },
  {
   "cell_type": "code",
   "execution_count": 20,
   "metadata": {},
   "outputs": [
    {
     "name": "stdout",
     "output_type": "stream",
     "text": [
      "[5330. 1519. 1920. 2298. 5705.  990. 1543. 1708. 3589.  289. 1444. 3114.\n",
      " 1868. 2787. 3911. 1885.  111. 3909. 5936. 3033. 2436.  674. 1028.  287.\n",
      " 2031.  391.]\n"
     ]
    }
   ],
   "source": [
    "print(counts)"
   ]
  },
  {
   "cell_type": "code",
   "execution_count": 13,
   "metadata": {},
   "outputs": [
    {
     "data": {
      "image/png": "[encoded data removed]",
      "text/plain": [
       "<Figure size 432x288 with 1 Axes>"
      ]
     },
     "metadata": {
      "needs_background": "light"
     },
     "output_type": "display_data"
    }
   ],
   "source": [
    "plt.bar(np.arange(len(counts)), counts)\n",
    "plt.xticks(np.arange(len(counts)), letters)\n",
    "plt.tight_layout()\n",
    "plt.savefig('letters.png')"
   ]
  },
  {
   "cell_type": "code",
   "execution_count": 19,
   "metadata": {},
   "outputs": [],
   "source": [
    "letters = 'ABCDEFGHIJKLMNOPQRSTUVWXYZ'\n",
    "counts = np.zeros(len(letters))\n",
    "with open('scrabble.txt') as f:\n",
    "    for line in f.readlines():\n",
    "        word = line.strip()\n",
    "        if len(word) == 5:\n",
    "            counts += np.array([l in word for l in letters])"
   ]
  },
  {
   "cell_type": "code",
   "execution_count": 37,
   "metadata": {},
   "outputs": [
    {
     "data": {
      "image/png": "[encoded data removed]",
      "text/plain": [
       "<Figure size 432x288 with 7 Axes>"
      ]
     },
     "metadata": {
      "needs_background": "light"
     },
     "output_type": "display_data"
    }
   ],
   "source": [
    "counts = {\n",
    "    'A' : [0,0,0,0,0],\n",
    "    'E' : [0,0,0,0,0],\n",
    "    'I' : [0,0,0,0,0],\n",
    "    'L' : [0,0,0,0,0],\n",
    "    'O' : [0,0,0,0,0],\n",
    "    'R' : [0,0,0,0,0],\n",
    "    'S' : [0,0,0,0,0],\n",
    "}\n",
    "\n",
    "with open('scrabble.txt') as f:\n",
    "    for line in f.readlines():\n",
    "        word = line.strip()\n",
    "        if len(word) == 5:\n",
    "            for l in counts.keys():\n",
    "                if l in word:\n",
    "                    for i, w in enumerate(word):\n",
    "                        if l == w:\n",
    "                            counts[l][i] += 1\n",
    "                            \n",
    "fig, ax = plt.subplots(nrows = len(counts), sharex = True)\n",
    "for i, (k, v) in enumerate(counts.items()):\n",
    "    ax[i].bar(range(5), v)\n",
    "    ax[i].set_ylabel(k)"
   ]
  },
  {
   "cell_type": "code",
   "execution_count": 36,
   "metadata": {},
   "outputs": [
    {
     "data": {
      "image/png": "[encoded data removed]",
      "text/plain": [
       "<Figure size 432x288 with 7 Axes>"
      ]
     },
     "metadata": {
      "needs_background": "light"
     },
     "output_type": "display_data"
    }
   ],
   "source": []
  },
  {
   "cell_type": "code",
   "execution_count": null,
   "metadata": {},
   "outputs": [],
   "source": [
    "AEROS\n",
    "AROSE\n",
    "SOARE"
   ]
  }
 ],
 "metadata": {
  "kernelspec": {
   "display_name": "Python 3",
   "language": "python",
   "name": "python3"
  },
  "language_info": {
   "codemirror_mode": {
    "name": "ipython",
    "version": 3
   },
   "file_extension": ".py",
   "mimetype": "text/x-python",
   "name": "python",
   "nbconvert_exporter": "python",
   "pygments_lexer": "ipython3",
   "version": "3.8.5"
  }
 },
 "nbformat": 4,
 "nbformat_minor": 4
}
